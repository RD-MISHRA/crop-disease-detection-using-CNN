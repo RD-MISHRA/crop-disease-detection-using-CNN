{
  "cells": [
    {
      "cell_type": "code",
      "execution_count": null,
      "metadata": {
        "id": "7F1FN2TWA2Dh"
      },
      "outputs": [],
      "source": [
        "import tensorflow as tf\n",
        "import matplotlib.pyplot as plt\n",
        "import pandas as pd\n",
        "import seaborn as sns"
      ]
    },
    {
      "cell_type": "code",
      "execution_count": null,
      "metadata": {
        "colab": {
          "base_uri": "https://localhost:8080/"
        },
        "id": "IJVyIsNpBamG",
        "outputId": "b82e00f0-38a9-498f-9491-00550246ba26"
      },
      "outputs": [],
      "source": [
        "print(\"TensorFlow version:\", tf.__version__)\n",
        "print(\"Pandas version:\", pd.__version__)\n",
        "print(\"Seaborn version:\", sns.__version__)"
      ]
    },
    {
      "cell_type": "code",
      "execution_count": null,
      "metadata": {
        "colab": {
          "base_uri": "https://localhost:8080/"
        },
        "id": "6-0CWSdLOmwX",
        "outputId": "aef8b5f0-4c56-483c-9b05-23ad3db2b97b"
      },
      "outputs": [],
      "source": [
        "!pip install kaggle"
      ]
    },
    {
      "cell_type": "markdown",
      "metadata": {
        "id": "R_e8GDq8BuX1"
      },
      "source": [
        "Data Preprocessing"
      ]
    },
    {
      "cell_type": "code",
      "execution_count": 4,
      "metadata": {
        "colab": {
          "base_uri": "https://localhost:8080/"
        },
        "id": "mu1wA1NOOuGE",
        "outputId": "90fea1b8-4f56-4473-ad2d-5307185229e9"
      },
      "outputs": [
        {
          "name": "stdout",
          "output_type": "stream",
          "text": [
            "Dataset URL: https://www.kaggle.com/datasets/vipoooool/new-plant-diseases-dataset\n",
            "License(s): copyright-authors\n",
            "Downloading new-plant-diseases-dataset.zip to /content\n",
            "100% 2.70G/2.70G [01:36<00:00, 32.5MB/s]\n",
            "100% 2.70G/2.70G [01:36<00:00, 30.1MB/s]\n"
          ]
        }
      ],
      "source": [
        "!kaggle datasets download -d vipoooool/new-plant-diseases-dataset"
      ]
    },
    {
      "cell_type": "code",
      "execution_count": 5,
      "metadata": {
        "colab": {
          "base_uri": "https://localhost:8080/"
        },
        "id": "4TE0WZB_Pq0q",
        "outputId": "e0be3f42-627d-4a6c-e3cc-a5f8bffc33ec"
      },
      "outputs": [
        {
          "name": "stdout",
          "output_type": "stream",
          "text": [
            "mkdir: cannot create directory ‘/root/.kaggle’: File exists\n",
            "cp: cannot stat 'kaggle.json': No such file or directory\n",
            "Traceback (most recent call last):\n",
            "  File \"/usr/local/bin/kaggle\", line 5, in <module>\n",
            "    from kaggle.cli import main\n",
            "  File \"/usr/local/lib/python3.10/dist-packages/kaggle/__init__.py\", line 7, in <module>\n",
            "    api.authenticate()\n",
            "  File \"/usr/local/lib/python3.10/dist-packages/kaggle/api/kaggle_api_extended.py\", line 398, in authenticate\n",
            "    raise IOError('Could not find {}. Make sure it\\'s located in'\n",
            "OSError: Could not find kaggle.json. Make sure it's located in /root/.kaggle. Or use the environment method.\n"
          ]
        }
      ],
      "source": [
        "!mkdir ~/.kaggle\n",
        "!cp kaggle.json ~/.kaggle\n",
        "!kaggle datasets list"
      ]
    },
    {
      "cell_type": "code",
      "execution_count": 6,
      "metadata": {
        "colab": {
          "base_uri": "https://localhost:8080/"
        },
        "id": "LsSGyBfWQCv8",
        "outputId": "d0a6cc02-3296-46eb-ac26-522ce8ee718a"
      },
      "outputs": [
        {
          "name": "stdout",
          "output_type": "stream",
          "text": [
            "Dataset URL: https://www.kaggle.com/datasets/vipoooool/new-plant-diseases-dataset\n",
            "License(s): copyright-authors\n",
            "new-plant-diseases-dataset.zip: Skipping, found more recently modified local copy (use --force to force download)\n"
          ]
        }
      ],
      "source": [
        "!kaggle datasets download 'vipoooool/new-plant-diseases-dataset'"
      ]
    },
    {
      "cell_type": "code",
      "execution_count": null,
      "metadata": {
        "colab": {
          "base_uri": "https://localhost:8080/"
        },
        "id": "vCkIfvhrQGak",
        "outputId": "e1fb7757-8606-4787-e827-2996485a93f5"
      },
      "outputs": [],
      "source": [
        "!unzip new-plant-diseases-dataset.zip"
      ]
    },
    {
      "cell_type": "code",
      "execution_count": 8,
      "metadata": {
        "colab": {
          "base_uri": "https://localhost:8080/"
        },
        "id": "f0w3Hly_Cw-4",
        "outputId": "24d659aa-ae8e-40e7-cf37-f2f3f847669d"
      },
      "outputs": [
        {
          "name": "stdout",
          "output_type": "stream",
          "text": [
            "Found 70295 files belonging to 38 classes.\n"
          ]
        }
      ],
      "source": [
        "training_set = tf.keras.utils.image_dataset_from_directory(\n",
        "    '/content/New Plant Diseases Dataset(Augmented)/New Plant Diseases Dataset(Augmented)/train',\n",
        "    labels=\"inferred\",\n",
        "    label_mode=\"categorical\",\n",
        "    class_names=None,\n",
        "    color_mode=\"rgb\",\n",
        "    batch_size=32,\n",
        "    image_size=(128, 128),\n",
        "    shuffle=True,\n",
        "    seed=None,\n",
        "    validation_split=None,\n",
        "    subset=None,\n",
        "    interpolation=\"bilinear\",\n",
        "    follow_links=False,\n",
        "    crop_to_aspect_ratio=False,\n",
        "\n",
        ")\n"
      ]
    },
    {
      "cell_type": "markdown",
      "metadata": {
        "id": "5IOSPsUoG9lY"
      },
      "source": []
    },
    {
      "cell_type": "markdown",
      "metadata": {
        "id": "66ZjO1YPG-9n"
      },
      "source": [
        "Validation Imgae Preprocessing"
      ]
    },
    {
      "cell_type": "code",
      "execution_count": 9,
      "metadata": {
        "colab": {
          "base_uri": "https://localhost:8080/"
        },
        "id": "R7gduMRwHFG5",
        "outputId": "1fde6e19-d1f8-4c75-817a-5ee680477bbd"
      },
      "outputs": [
        {
          "name": "stdout",
          "output_type": "stream",
          "text": [
            "Found 17572 files belonging to 38 classes.\n"
          ]
        }
      ],
      "source": [
        "validation_set=tf.keras.utils.image_dataset_from_directory(\n",
        "    '/content/New Plant Diseases Dataset(Augmented)/New Plant Diseases Dataset(Augmented)/valid',\n",
        "    labels=\"inferred\",\n",
        "    label_mode=\"categorical\",\n",
        "    class_names=None,\n",
        "    color_mode=\"rgb\",\n",
        "    batch_size=32,\n",
        "    image_size=(128, 128),\n",
        "    shuffle=True,\n",
        "    seed=None,\n",
        "    validation_split=None,\n",
        "    subset=None,\n",
        "    interpolation=\"bilinear\",\n",
        "    follow_links=False,\n",
        "     crop_to_aspect_ratio=False\n",
        "\n",
        ")"
      ]
    },
    {
      "cell_type": "code",
      "execution_count": 10,
      "metadata": {
        "colab": {
          "base_uri": "https://localhost:8080/"
        },
        "id": "nTcr4Kwu7si6",
        "outputId": "50f9b7c7-1b2b-4b95-feac-8fc8cf2d8dd9"
      },
      "outputs": [
        {
          "name": "stdout",
          "output_type": "stream",
          "text": [
            "(TensorSpec(shape=(None, 128, 128, 3), dtype=tf.float32, name=None), TensorSpec(shape=(None, 38), dtype=tf.float32, name=None))\n"
          ]
        }
      ],
      "source": [
        "print(training_set.element_spec)"
      ]
    },
    {
      "cell_type": "code",
      "execution_count": 11,
      "metadata": {
        "colab": {
          "base_uri": "https://localhost:8080/"
        },
        "id": "YJOzHUIdUZYt",
        "outputId": "ac996d1d-4604-42bb-b25d-9dd23fec9919"
      },
      "outputs": [
        {
          "data": {
            "text/plain": [
              "<_PrefetchDataset element_spec=(TensorSpec(shape=(None, 128, 128, 3), dtype=tf.float32, name=None), TensorSpec(shape=(None, 38), dtype=tf.float32, name=None))>"
            ]
          },
          "execution_count": 11,
          "metadata": {},
          "output_type": "execute_result"
        }
      ],
      "source": [
        "training_set"
      ]
    },
    {
      "cell_type": "code",
      "execution_count": 13,
      "metadata": {
        "id": "COfDsDKbfYXY"
      },
      "outputs": [],
      "source": [
        "# for images, labels in training_set.take(1):  # Take one batch\n",
        "#     plt.figure(figsize=(10, 10))\n",
        "#     for i in range(9):  # Change the range to print more images\n",
        "#         ax = plt.subplot(3, 3, i + 1)\n",
        "#         plt.imshow(images[i].numpy().astype(\"uint8\"))\n",
        "#         plt.title(training_set.class_names[labels[i]])\n",
        "#         plt.axis(\"off\")"
      ]
    },
    {
      "cell_type": "code",
      "execution_count": 14,
      "metadata": {
        "colab": {
          "base_uri": "https://localhost:8080/"
        },
        "id": "ovp51XSoUe87",
        "outputId": "1a602145-7950-4234-8fed-97bc5ba7a752"
      },
      "outputs": [
        {
          "name": "stdout",
          "output_type": "stream",
          "text": [
            "tf.Tensor(\n",
            "[[[[146.   147.   178.  ]\n",
            "   [146.   147.   178.  ]\n",
            "   [144.25 145.25 176.25]\n",
            "   ...\n",
            "   [144.   145.   175.  ]\n",
            "   [141.   142.   172.  ]\n",
            "   [148.75 149.75 179.75]]\n",
            "\n",
            "  [[146.   147.   178.  ]\n",
            "   [146.   147.   178.  ]\n",
            "   [145.   146.   177.  ]\n",
            "   ...\n",
            "   [150.25 151.25 181.25]\n",
            "   [142.75 143.75 173.75]\n",
            "   [149.5  150.5  180.5 ]]\n",
            "\n",
            "  [[145.75 146.75 177.75]\n",
            "   [146.75 147.75 178.75]\n",
            "   [146.25 147.25 178.25]\n",
            "   ...\n",
            "   [143.   144.   174.  ]\n",
            "   [148.   149.   179.  ]\n",
            "   [141.25 142.25 172.25]]\n",
            "\n",
            "  ...\n",
            "\n",
            "  [[139.   130.   157.  ]\n",
            "   [140.25 131.25 158.25]\n",
            "   [135.25 126.25 153.25]\n",
            "   ...\n",
            "   [132.   124.   147.  ]\n",
            "   [129.   121.   144.  ]\n",
            "   [123.75 115.75 138.75]]\n",
            "\n",
            "  [[143.75 134.75 161.75]\n",
            "   [139.25 130.25 157.25]\n",
            "   [144.   135.   162.  ]\n",
            "   ...\n",
            "   [143.   135.   158.  ]\n",
            "   [136.75 128.75 151.75]\n",
            "   [143.5  135.5  158.5 ]]\n",
            "\n",
            "  [[137.5  128.5  155.5 ]\n",
            "   [140.75 131.75 158.75]\n",
            "   [140.5  131.5  158.5 ]\n",
            "   ...\n",
            "   [151.25 143.25 166.25]\n",
            "   [161.5  153.5  176.5 ]\n",
            "   [136.   128.   151.  ]]]\n",
            "\n",
            "\n",
            " [[[181.75 179.75 182.75]\n",
            "   [186.   184.   187.  ]\n",
            "   [184.5  182.5  185.5 ]\n",
            "   ...\n",
            "   [119.   115.   116.  ]\n",
            "   [126.   122.   123.  ]\n",
            "   [131.25 127.25 128.25]]\n",
            "\n",
            "  [[178.25 176.25 179.25]\n",
            "   [182.75 180.75 183.75]\n",
            "   [182.25 180.25 183.25]\n",
            "   ...\n",
            "   [127.25 123.25 124.25]\n",
            "   [116.25 112.25 113.25]\n",
            "   [118.5  114.5  115.5 ]]\n",
            "\n",
            "  [[181.   179.   182.  ]\n",
            "   [177.5  175.5  178.5 ]\n",
            "   [180.25 178.25 181.25]\n",
            "   ...\n",
            "   [122.5  118.5  119.5 ]\n",
            "   [107.25 103.25 104.25]\n",
            "   [135.   131.   132.  ]]\n",
            "\n",
            "  ...\n",
            "\n",
            "  [[ 81.25 103.25  67.25]\n",
            "   [ 73.25  95.25  57.75]\n",
            "   [ 78.75 101.    61.5 ]\n",
            "   ...\n",
            "   [ 94.   117.    91.  ]\n",
            "   [ 81.5  104.5   78.5 ]\n",
            "   [ 69.    92.    66.  ]]\n",
            "\n",
            "  [[ 70.5   91.75  58.  ]\n",
            "   [ 87.25 109.25  72.75]\n",
            "   [ 94.5  116.5   78.  ]\n",
            "   ...\n",
            "   [ 81.   103.    80.  ]\n",
            "   [ 81.25 103.25  80.25]\n",
            "   [ 63.    85.    62.  ]]\n",
            "\n",
            "  [[ 81.5  102.5   69.5 ]\n",
            "   [ 97.25 119.25  83.25]\n",
            "   [ 78.5  100.5   62.  ]\n",
            "   ...\n",
            "   [ 69.5   91.5   70.  ]\n",
            "   [ 59.25  81.25  60.25]\n",
            "   [ 60.5   82.5   61.5 ]]]\n",
            "\n",
            "\n",
            " [[[140.   140.   140.  ]\n",
            "   [142.75 142.75 142.75]\n",
            "   [142.   142.   142.  ]\n",
            "   ...\n",
            "   [115.   119.   120.  ]\n",
            "   [108.75 112.75 113.75]\n",
            "   [106.5  110.5  111.5 ]]\n",
            "\n",
            "  [[142.25 142.25 142.25]\n",
            "   [143.75 143.75 143.75]\n",
            "   [143.25 143.25 143.25]\n",
            "   ...\n",
            "   [107.5  111.5  112.5 ]\n",
            "   [108.75 112.75 113.75]\n",
            "   [118.5  122.5  123.5 ]]\n",
            "\n",
            "  [[143.   143.   143.  ]\n",
            "   [142.75 142.75 142.75]\n",
            "   [142.   142.   142.  ]\n",
            "   ...\n",
            "   [110.   114.   115.  ]\n",
            "   [109.5  113.5  114.5 ]\n",
            "   [118.   122.   123.  ]]\n",
            "\n",
            "  ...\n",
            "\n",
            "  [[146.75 147.75 141.75]\n",
            "   [147.75 148.75 142.75]\n",
            "   [147.5  148.5  142.5 ]\n",
            "   ...\n",
            "   [121.75 122.75 117.75]\n",
            "   [117.25 118.25 113.25]\n",
            "   [122.25 123.25 118.25]]\n",
            "\n",
            "  [[143.25 144.25 138.25]\n",
            "   [143.5  144.5  138.5 ]\n",
            "   [143.75 144.75 138.75]\n",
            "   ...\n",
            "   [122.75 123.75 118.75]\n",
            "   [113.   114.   109.  ]\n",
            "   [113.   114.   109.  ]]\n",
            "\n",
            "  [[141.25 142.25 136.25]\n",
            "   [137.   138.   132.  ]\n",
            "   [137.75 138.75 132.75]\n",
            "   ...\n",
            "   [118.25 119.25 114.25]\n",
            "   [117.   118.   113.  ]\n",
            "   [114.25 115.25 110.25]]]\n",
            "\n",
            "\n",
            " ...\n",
            "\n",
            "\n",
            " [[[  0.     0.     0.  ]\n",
            "   [  0.     0.     0.  ]\n",
            "   [  0.     0.     0.  ]\n",
            "   ...\n",
            "   [  0.     0.     0.  ]\n",
            "   [  0.     0.     0.  ]\n",
            "   [  0.     0.     0.  ]]\n",
            "\n",
            "  [[  0.     0.     0.  ]\n",
            "   [  0.     0.     0.  ]\n",
            "   [  0.     0.     0.  ]\n",
            "   ...\n",
            "   [  0.     0.     0.  ]\n",
            "   [  0.     0.     0.  ]\n",
            "   [  0.     0.     0.  ]]\n",
            "\n",
            "  [[  0.     0.     0.  ]\n",
            "   [  0.     0.     0.  ]\n",
            "   [  0.     0.     0.  ]\n",
            "   ...\n",
            "   [  0.     0.     0.  ]\n",
            "   [  0.     0.     0.  ]\n",
            "   [  0.     0.     0.  ]]\n",
            "\n",
            "  ...\n",
            "\n",
            "  [[  2.     0.     0.  ]\n",
            "   [  0.25   0.5    0.  ]\n",
            "   [  0.     1.     0.  ]\n",
            "   ...\n",
            "   [  0.     0.     0.  ]\n",
            "   [  0.     0.     0.  ]\n",
            "   [  0.     0.     0.  ]]\n",
            "\n",
            "  [[  1.     0.     0.  ]\n",
            "   [  0.     0.5    0.  ]\n",
            "   [  0.     1.     0.  ]\n",
            "   ...\n",
            "   [  0.     0.     0.  ]\n",
            "   [  0.     0.     0.  ]\n",
            "   [  0.     0.     0.  ]]\n",
            "\n",
            "  [[  1.     0.     0.  ]\n",
            "   [  0.     0.5    0.  ]\n",
            "   [  0.     1.     0.  ]\n",
            "   ...\n",
            "   [  0.     0.     0.  ]\n",
            "   [  0.     0.     0.  ]\n",
            "   [  0.     0.     0.  ]]]\n",
            "\n",
            "\n",
            " [[[  0.     0.     0.  ]\n",
            "   [  0.     0.     0.  ]\n",
            "   [  0.     0.     0.  ]\n",
            "   ...\n",
            "   [  0.     0.     0.  ]\n",
            "   [  0.     0.     0.  ]\n",
            "   [  0.     0.     0.  ]]\n",
            "\n",
            "  [[  0.     0.     0.  ]\n",
            "   [  0.     0.     0.  ]\n",
            "   [  0.     0.     0.  ]\n",
            "   ...\n",
            "   [  0.     0.     0.  ]\n",
            "   [  0.     0.     0.  ]\n",
            "   [  0.     0.     0.  ]]\n",
            "\n",
            "  [[  0.     0.     0.  ]\n",
            "   [  0.     0.     0.  ]\n",
            "   [  0.     0.     0.  ]\n",
            "   ...\n",
            "   [  0.     0.     0.  ]\n",
            "   [  0.     0.     0.  ]\n",
            "   [  0.     0.     0.  ]]\n",
            "\n",
            "  ...\n",
            "\n",
            "  [[  0.     0.     0.  ]\n",
            "   [  0.     0.     0.  ]\n",
            "   [  0.     0.     0.  ]\n",
            "   ...\n",
            "   [  0.     0.     0.  ]\n",
            "   [  0.     0.     0.  ]\n",
            "   [  0.     0.     0.  ]]\n",
            "\n",
            "  [[  0.     0.     0.  ]\n",
            "   [  0.     0.     0.  ]\n",
            "   [  0.     0.     0.  ]\n",
            "   ...\n",
            "   [  0.     0.     0.  ]\n",
            "   [  0.     0.     0.  ]\n",
            "   [  0.     0.     0.  ]]\n",
            "\n",
            "  [[  0.     0.     0.  ]\n",
            "   [  0.     0.     0.  ]\n",
            "   [  0.     0.     0.  ]\n",
            "   ...\n",
            "   [  0.     0.     0.  ]\n",
            "   [  0.     0.     0.  ]\n",
            "   [  0.     0.     0.  ]]]\n",
            "\n",
            "\n",
            " [[[ 82.5   85.5   94.5 ]\n",
            "   [161.   163.   175.  ]\n",
            "   [161.25 163.25 178.25]\n",
            "   ...\n",
            "   [100.5   92.5  115.5 ]\n",
            "   [105.75  97.75 120.75]\n",
            "   [102.    94.   117.  ]]\n",
            "\n",
            "  [[ 82.5   84.    93.  ]\n",
            "   [169.5  171.5  183.5 ]\n",
            "   [166.5  168.5  183.5 ]\n",
            "   ...\n",
            "   [105.5   97.5  120.5 ]\n",
            "   [117.75 109.75 132.75]\n",
            "   [100.75  92.75 115.75]]\n",
            "\n",
            "  [[ 85.25  86.75  95.75]\n",
            "   [175.75 177.75 189.75]\n",
            "   [169.5  171.5  186.5 ]\n",
            "   ...\n",
            "   [106.25  98.25 121.25]\n",
            "   [103.5   95.5  118.5 ]\n",
            "   [ 80.5   72.5   95.5 ]]\n",
            "\n",
            "  ...\n",
            "\n",
            "  [[ 63.75  57.75  70.75]\n",
            "   [121.75 113.75 128.75]\n",
            "   [122.   113.   130.  ]\n",
            "   ...\n",
            "   [124.75 116.75 137.75]\n",
            "   [116.5  108.5  129.5 ]\n",
            "   [112.   104.   125.  ]]\n",
            "\n",
            "  [[ 64.25  58.25  71.25]\n",
            "   [122.75 114.75 129.75]\n",
            "   [124.   115.   132.  ]\n",
            "   ...\n",
            "   [112.75 104.75 125.75]\n",
            "   [109.75 101.75 122.75]\n",
            "   [112.   104.   125.  ]]\n",
            "\n",
            "  [[ 66.5   59.75  73.5 ]\n",
            "   [128.   120.   135.  ]\n",
            "   [128.25 119.25 136.25]\n",
            "   ...\n",
            "   [139.   131.   152.  ]\n",
            "   [106.    98.   119.  ]\n",
            "   [112.25 104.25 125.25]]]], shape=(32, 128, 128, 3), dtype=float32) (32, 128, 128, 3)\n",
            "tf.Tensor(\n",
            "[[0. 0. 0. ... 0. 0. 0.]\n",
            " [0. 0. 0. ... 0. 0. 0.]\n",
            " [0. 0. 0. ... 1. 0. 0.]\n",
            " ...\n",
            " [0. 0. 0. ... 0. 0. 0.]\n",
            " [0. 0. 0. ... 0. 0. 0.]\n",
            " [1. 0. 0. ... 0. 0. 0.]], shape=(32, 38), dtype=float32) (32, 38)\n"
          ]
        }
      ],
      "source": [
        "for x,y in training_set:\n",
        "  print(x,x.shape)\n",
        "  print(y,y.shape)\n",
        "  break"
      ]
    },
    {
      "cell_type": "markdown",
      "metadata": {
        "id": "WmdrqmNvWJ1e"
      },
      "source": [
        "Now We Are Building Model"
      ]
    },
    {
      "cell_type": "code",
      "execution_count": 15,
      "metadata": {
        "id": "7SvH5LmtWPFq"
      },
      "outputs": [],
      "source": [
        "from tensorflow.keras.layers import Dense,Conv2D,MaxPool2D,Flatten\n",
        "from tensorflow.keras.models import Sequential"
      ]
    },
    {
      "cell_type": "code",
      "execution_count": 16,
      "metadata": {
        "id": "CmMv74qQWlqE"
      },
      "outputs": [],
      "source": [
        "\n",
        "cnn = tf.keras.models.Sequential()"
      ]
    },
    {
      "cell_type": "code",
      "execution_count": 17,
      "metadata": {
        "colab": {
          "base_uri": "https://localhost:8080/"
        },
        "id": "x6wzF8nU3UOe",
        "outputId": "bbc3438b-9d72-479f-fd63-2443410afdb9"
      },
      "outputs": [
        {
          "name": "stdout",
          "output_type": "stream",
          "text": [
            "(TensorSpec(shape=(None, 128, 128, 3), dtype=tf.float32, name=None), TensorSpec(shape=(None, 38), dtype=tf.float32, name=None))\n"
          ]
        }
      ],
      "source": [
        "print(training_set.element_spec)\n"
      ]
    },
    {
      "cell_type": "code",
      "execution_count": 18,
      "metadata": {
        "colab": {
          "base_uri": "https://localhost:8080/"
        },
        "id": "lgquBGoL3p8B",
        "outputId": "4697b329-4d0c-4ce8-fb4c-5f4990b3f292"
      },
      "outputs": [
        {
          "name": "stdout",
          "output_type": "stream",
          "text": [
            "Batch size: 32\n",
            "Image shape: (128, 128, 3)\n",
            "Data type: <dtype: 'float32'>\n"
          ]
        }
      ],
      "source": [
        "for images, labels in training_set.take(1):  # Take the first batch for inspection\n",
        "    print(\"Batch size:\", images.shape[0])\n",
        "    print(\"Image shape:\", images.shape[1:])  # Excluding batch dimension\n",
        "    print(\"Data type:\", images.dtype)\n"
      ]
    },
    {
      "cell_type": "code",
      "execution_count": 19,
      "metadata": {
        "colab": {
          "base_uri": "https://localhost:8080/"
        },
        "id": "h7Y8cwLd4Bad",
        "outputId": "531ce8b7-9a8c-4a01-ce98-091612e5e697"
      },
      "outputs": [
        {
          "name": "stdout",
          "output_type": "stream",
          "text": [
            "Expected batch size: 32\n"
          ]
        }
      ],
      "source": [
        "print(\"Expected batch size:\", 32)  # Replace with your expected batch size\n"
      ]
    },
    {
      "cell_type": "markdown",
      "metadata": {
        "id": "9q6gvwQtWzm0"
      },
      "source": [
        "Adding Convolution Layer"
      ]
    },
    {
      "cell_type": "code",
      "execution_count": 20,
      "metadata": {
        "id": "1jDlRV5JW6xT"
      },
      "outputs": [],
      "source": [
        "\n",
        "# # Define your CNN model\n",
        "# model = Sequential()\n",
        "# model.add(Conv2D(filters=32, kernel_size=3, padding='same', activation='relu', input_shape=(128, 128, 3)))\n",
        "# model.add(Conv2D(filters=32, kernel_size=3, padding='same', activation='relu'))\n",
        "# model.add(MaxPooling2D(pool_size=2, strides=2))\n",
        "\n",
        "# model.add(Conv2D(filters=64, kernel_size=3, padding='same', activation='relu', input_shape=(128, 128, 3)))\n",
        "# model.add(Conv2D(filters=64, kernel_size=3, padding='same', activation='relu'))\n",
        "# model.add(MaxPooling2D(pool_size=2, strides=2))\n",
        "\n",
        "# model.add(Conv2D(filters=128, kernel_size=3, padding='same', activation='relu', input_shape=(128, 128, 3)))\n",
        "# model.add(Conv2D(filters=128, kernel_size=3, padding='same', activation='relu'))\n",
        "# model.add(MaxPooling2D(pool_size=2, strides=2))\n",
        "\n",
        "# model.add(Conv2D(filters=265, kernel_size=3, padding='same', activation='relu', input_shape=(128, 128, 3)))\n",
        "# model.add(Conv2D(filters=256, kernel_size=3, padding='same', activation='relu'))\n",
        "# model.add(MaxPooling2D(pool_size=2, strides=2))\n",
        "\n",
        "\n",
        "# model.add(Flatten())\n",
        "# model.add(Dense(units=1024, activation='relu'))\n",
        "# model.add(Dense(units=38, activation='softmax'))  # Adjust units to match number of classes\n",
        "\n",
        "# # Compile the model\n",
        "# model.compile(optimizer='adam', loss='categorical_crossentropy', metrics=['accuracy'])\n",
        "\n",
        "# model.summary();\n",
        "# # Train the model\n",
        "# model.fit(training_set, epochs=10)  # Adjust epochs as needed\n"
      ]
    },
    {
      "cell_type": "code",
      "execution_count": 21,
      "metadata": {
        "id": "IWTkhqwxYR4y"
      },
      "outputs": [],
      "source": [
        "cnn.add(tf.keras.layers.Conv2D(filters=32,kernel_size=3,padding='same',activation='relu',input_shape=[128,128,3]))\n",
        "cnn.add(tf.keras.layers.Conv2D(filters=32,kernel_size=3,activation='relu'))\n",
        "cnn.add(tf.keras.layers.MaxPool2D(pool_size=2,strides=2))"
      ]
    },
    {
      "cell_type": "code",
      "execution_count": 22,
      "metadata": {
        "id": "-oEJdIsWYTWO"
      },
      "outputs": [],
      "source": [
        "cnn.add(tf.keras.layers.Conv2D(filters=64,kernel_size=3,padding='same',activation='relu'))\n",
        "cnn.add(tf.keras.layers.Conv2D(filters=64,kernel_size=3,activation='relu'))\n",
        "cnn.add(tf.keras.layers.MaxPool2D(pool_size=2,strides=2))"
      ]
    },
    {
      "cell_type": "code",
      "execution_count": 23,
      "metadata": {
        "id": "wNVHK-jXYSwF"
      },
      "outputs": [],
      "source": [
        "cnn.add(tf.keras.layers.Conv2D(filters=128,kernel_size=3,padding='same',activation='relu'))\n",
        "cnn.add(tf.keras.layers.Conv2D(filters=128,kernel_size=3,activation='relu'))\n",
        "cnn.add(tf.keras.layers.MaxPool2D(pool_size=2,strides=2))"
      ]
    },
    {
      "cell_type": "code",
      "execution_count": 24,
      "metadata": {
        "id": "UOMO9nMZNI8l"
      },
      "outputs": [],
      "source": [
        "cnn.add(tf.keras.layers.Conv2D(filters=256,kernel_size=3,padding='same',activation='relu'))\n",
        "cnn.add(tf.keras.layers.Conv2D(filters=256,kernel_size=3,activation='relu'))\n",
        "cnn.add(tf.keras.layers.MaxPool2D(pool_size=2,strides=2))"
      ]
    },
    {
      "cell_type": "code",
      "execution_count": 25,
      "metadata": {
        "id": "zjduKFKQNK5n"
      },
      "outputs": [],
      "source": [
        "\n",
        "cnn.add(tf.keras.layers.Conv2D(filters=512,kernel_size=3,padding='same',activation='relu'))\n",
        "cnn.add(tf.keras.layers.Conv2D(filters=512,kernel_size=3,activation='relu'))\n",
        "cnn.add(tf.keras.layers.MaxPool2D(pool_size=2,strides=2))"
      ]
    },
    {
      "cell_type": "code",
      "execution_count": 26,
      "metadata": {
        "id": "-OpaIPZMNPv3"
      },
      "outputs": [],
      "source": [
        "\n",
        "cnn.add(tf.keras.layers.Flatten())"
      ]
    },
    {
      "cell_type": "code",
      "execution_count": 27,
      "metadata": {
        "id": "fNaQ5HvuNNcM"
      },
      "outputs": [],
      "source": [
        "\n",
        "cnn.add(tf.keras.layers.Dropout(0.25))"
      ]
    },
    {
      "cell_type": "code",
      "execution_count": 28,
      "metadata": {
        "id": "UVi0woHgNSQY"
      },
      "outputs": [],
      "source": [
        "cnn.add(tf.keras.layers.Dense(units=1500,activation='relu'))"
      ]
    },
    {
      "cell_type": "code",
      "execution_count": 29,
      "metadata": {
        "id": "8D4AbNaNNU1r"
      },
      "outputs": [],
      "source": [
        "\n",
        "cnn.add(tf.keras.layers.Dropout(0.4)) #To avoid overfitting"
      ]
    },
    {
      "cell_type": "code",
      "execution_count": 30,
      "metadata": {
        "id": "PigPI4XjNXZ3"
      },
      "outputs": [],
      "source": [
        "cnn.add(tf.keras.layers.Dense(units=38,activation='softmax'))"
      ]
    },
    {
      "cell_type": "markdown",
      "metadata": {
        "id": "r81VAO2CNZw_"
      },
      "source": [
        "\n",
        "Compiling and Training Phase"
      ]
    },
    {
      "cell_type": "code",
      "execution_count": 31,
      "metadata": {
        "id": "2qgXInRJNcKf"
      },
      "outputs": [],
      "source": [
        "cnn.compile(optimizer=tf.keras.optimizers.legacy.Adam(\n",
        "    learning_rate=0.0001),loss='categorical_crossentropy',metrics=['accuracy'])"
      ]
    },
    {
      "cell_type": "code",
      "execution_count": 32,
      "metadata": {
        "colab": {
          "base_uri": "https://localhost:8080/"
        },
        "id": "yEefmYNhNhUq",
        "outputId": "3bb9fa19-0f97-4bc7-bd55-f9dfdbc6df66"
      },
      "outputs": [
        {
          "name": "stdout",
          "output_type": "stream",
          "text": [
            "Model: \"sequential\"\n",
            "_________________________________________________________________\n",
            " Layer (type)                Output Shape              Param #   \n",
            "=================================================================\n",
            " conv2d (Conv2D)             (None, 128, 128, 32)      896       \n",
            "                                                                 \n",
            " conv2d_1 (Conv2D)           (None, 126, 126, 32)      9248      \n",
            "                                                                 \n",
            " max_pooling2d (MaxPooling2  (None, 63, 63, 32)        0         \n",
            " D)                                                              \n",
            "                                                                 \n",
            " conv2d_2 (Conv2D)           (None, 63, 63, 64)        18496     \n",
            "                                                                 \n",
            " conv2d_3 (Conv2D)           (None, 61, 61, 64)        36928     \n",
            "                                                                 \n",
            " max_pooling2d_1 (MaxPoolin  (None, 30, 30, 64)        0         \n",
            " g2D)                                                            \n",
            "                                                                 \n",
            " conv2d_4 (Conv2D)           (None, 30, 30, 128)       73856     \n",
            "                                                                 \n",
            " conv2d_5 (Conv2D)           (None, 28, 28, 128)       147584    \n",
            "                                                                 \n",
            " max_pooling2d_2 (MaxPoolin  (None, 14, 14, 128)       0         \n",
            " g2D)                                                            \n",
            "                                                                 \n",
            " conv2d_6 (Conv2D)           (None, 14, 14, 256)       295168    \n",
            "                                                                 \n",
            " conv2d_7 (Conv2D)           (None, 12, 12, 256)       590080    \n",
            "                                                                 \n",
            " max_pooling2d_3 (MaxPoolin  (None, 6, 6, 256)         0         \n",
            " g2D)                                                            \n",
            "                                                                 \n",
            " conv2d_8 (Conv2D)           (None, 6, 6, 512)         1180160   \n",
            "                                                                 \n",
            " conv2d_9 (Conv2D)           (None, 4, 4, 512)         2359808   \n",
            "                                                                 \n",
            " max_pooling2d_4 (MaxPoolin  (None, 2, 2, 512)         0         \n",
            " g2D)                                                            \n",
            "                                                                 \n",
            " flatten (Flatten)           (None, 2048)              0         \n",
            "                                                                 \n",
            " dropout (Dropout)           (None, 2048)              0         \n",
            "                                                                 \n",
            " dense (Dense)               (None, 1500)              3073500   \n",
            "                                                                 \n",
            " dropout_1 (Dropout)         (None, 1500)              0         \n",
            "                                                                 \n",
            " dense_1 (Dense)             (None, 38)                57038     \n",
            "                                                                 \n",
            "=================================================================\n",
            "Total params: 7842762 (29.92 MB)\n",
            "Trainable params: 7842762 (29.92 MB)\n",
            "Non-trainable params: 0 (0.00 Byte)\n",
            "_________________________________________________________________\n"
          ]
        }
      ],
      "source": [
        "\n",
        "cnn.summary()"
      ]
    },
    {
      "cell_type": "code",
      "execution_count": 33,
      "metadata": {
        "colab": {
          "base_uri": "https://localhost:8080/"
        },
        "id": "wMPgPieANlHZ",
        "outputId": "0e64df91-a5b3-4e7d-9569-71c8276c6c1f"
      },
      "outputs": [
        {
          "name": "stdout",
          "output_type": "stream",
          "text": [
            "Epoch 1/10\n",
            "2197/2197 [==============================] - 137s 59ms/step - loss: 1.4609 - accuracy: 0.5701 - val_loss: 0.5985 - val_accuracy: 0.8078\n",
            "Epoch 2/10\n",
            "2197/2197 [==============================] - 128s 58ms/step - loss: 0.4704 - accuracy: 0.8511 - val_loss: 0.2934 - val_accuracy: 0.9025\n",
            "Epoch 3/10\n",
            "2197/2197 [==============================] - 129s 59ms/step - loss: 0.2847 - accuracy: 0.9080 - val_loss: 0.2677 - val_accuracy: 0.9120\n",
            "Epoch 4/10\n",
            "2197/2197 [==============================] - 127s 58ms/step - loss: 0.1903 - accuracy: 0.9375 - val_loss: 0.1897 - val_accuracy: 0.9375\n",
            "Epoch 5/10\n",
            "2197/2197 [==============================] - 127s 58ms/step - loss: 0.1381 - accuracy: 0.9545 - val_loss: 0.1539 - val_accuracy: 0.9504\n",
            "Epoch 6/10\n",
            "2197/2197 [==============================] - 126s 57ms/step - loss: 0.1116 - accuracy: 0.9636 - val_loss: 0.1938 - val_accuracy: 0.9400\n",
            "Epoch 7/10\n",
            "2197/2197 [==============================] - 129s 59ms/step - loss: 0.0917 - accuracy: 0.9701 - val_loss: 0.1653 - val_accuracy: 0.9474\n",
            "Epoch 8/10\n",
            "2197/2197 [==============================] - 128s 58ms/step - loss: 0.0756 - accuracy: 0.9752 - val_loss: 0.1503 - val_accuracy: 0.9508\n",
            "Epoch 9/10\n",
            "2197/2197 [==============================] - 129s 59ms/step - loss: 0.0654 - accuracy: 0.9790 - val_loss: 0.1336 - val_accuracy: 0.9595\n",
            "Epoch 10/10\n",
            "2197/2197 [==============================] - 126s 57ms/step - loss: 0.0562 - accuracy: 0.9811 - val_loss: 0.1742 - val_accuracy: 0.9498\n"
          ]
        }
      ],
      "source": [
        "training_history = cnn.fit(x=training_set,validation_data=validation_set,epochs=10)"
      ]
    },
    {
      "cell_type": "code",
      "execution_count": 34,
      "metadata": {
        "colab": {
          "base_uri": "https://localhost:8080/"
        },
        "id": "tdub7PQGVGta",
        "outputId": "a394daa7-ce15-46e9-edbc-53ea7abc495a"
      },
      "outputs": [
        {
          "name": "stdout",
          "output_type": "stream",
          "text": [
            "2197/2197 [==============================] - 49s 22ms/step - loss: 0.0517 - accuracy: 0.9827\n",
            "Training accuracy: 0.9827157258987427\n"
          ]
        }
      ],
      "source": [
        "#Training set Accuracy\n",
        "train_loss, train_acc = cnn.evaluate(training_set)\n",
        "print('Training accuracy:', train_acc)"
      ]
    },
    {
      "cell_type": "code",
      "execution_count": 35,
      "metadata": {
        "colab": {
          "base_uri": "https://localhost:8080/"
        },
        "id": "aCo1GhsLVkng",
        "outputId": "32f89248-b691-4772-9c03-3013e171acf9"
      },
      "outputs": [
        {
          "name": "stdout",
          "output_type": "stream",
          "text": [
            "550/550 [==============================] - 11s 19ms/step - loss: 0.1742 - accuracy: 0.9498\n",
            "Validation accuracy: 0.9498065114021301\n"
          ]
        }
      ],
      "source": [
        "#Validation set Accuracy\n",
        "val_loss, val_acc = cnn.evaluate(validation_set)\n",
        "print('Validation accuracy:', val_acc)"
      ]
    },
    {
      "cell_type": "code",
      "execution_count": 36,
      "metadata": {
        "id": "YTLfYHEAVwS8"
      },
      "outputs": [],
      "source": [
        "cnn.save('trained_plant_disease_model.keras')"
      ]
    },
    {
      "cell_type": "code",
      "execution_count": 37,
      "metadata": {
        "colab": {
          "base_uri": "https://localhost:8080/"
        },
        "id": "J1H9ZTFYV0sh",
        "outputId": "4a968069-b6b6-4039-d2cf-83774a089995"
      },
      "outputs": [
        {
          "data": {
            "text/plain": [
              "{'loss': [1.460891842842102,\n",
              "  0.47043314576148987,\n",
              "  0.2847370207309723,\n",
              "  0.19029824435710907,\n",
              "  0.13813737034797668,\n",
              "  0.11163661628961563,\n",
              "  0.09165601432323456,\n",
              "  0.07557767629623413,\n",
              "  0.06542456895112991,\n",
              "  0.0561697818338871],\n",
              " 'accuracy': [0.5701401233673096,\n",
              "  0.8511131405830383,\n",
              "  0.908044695854187,\n",
              "  0.9375346899032593,\n",
              "  0.9544917941093445,\n",
              "  0.9635536074638367,\n",
              "  0.9701259136199951,\n",
              "  0.9752044677734375,\n",
              "  0.9790170192718506,\n",
              "  0.9811081886291504],\n",
              " 'val_loss': [0.598472535610199,\n",
              "  0.29343584179878235,\n",
              "  0.26769593358039856,\n",
              "  0.1897372305393219,\n",
              "  0.15393294394016266,\n",
              "  0.1938137710094452,\n",
              "  0.16530346870422363,\n",
              "  0.1503111869096756,\n",
              "  0.13361799716949463,\n",
              "  0.17419442534446716],\n",
              " 'val_accuracy': [0.8077623248100281,\n",
              "  0.9024584293365479,\n",
              "  0.9120191335678101,\n",
              "  0.9374573230743408,\n",
              "  0.9503756165504456,\n",
              "  0.939961314201355,\n",
              "  0.947416365146637,\n",
              "  0.95083087682724,\n",
              "  0.959537923336029,\n",
              "  0.9498065114021301]}"
            ]
          },
          "execution_count": 37,
          "metadata": {},
          "output_type": "execute_result"
        }
      ],
      "source": [
        "training_history.history #Return Dictionary of history"
      ]
    },
    {
      "cell_type": "code",
      "execution_count": 38,
      "metadata": {
        "id": "6pDdNkVCV7RG"
      },
      "outputs": [],
      "source": [
        "#Recording History in json\n",
        "import json\n",
        "with open('training_hist.json','w') as f:\n",
        "  json.dump(training_history.history,f)"
      ]
    },
    {
      "cell_type": "code",
      "execution_count": 39,
      "metadata": {
        "colab": {
          "base_uri": "https://localhost:8080/"
        },
        "id": "MX9zEiu3V-MS",
        "outputId": "6c5b5ec3-48f6-44fe-d8af-5898d53d1961"
      },
      "outputs": [
        {
          "name": "stdout",
          "output_type": "stream",
          "text": [
            "dict_keys(['loss', 'accuracy', 'val_loss', 'val_accuracy'])\n"
          ]
        }
      ],
      "source": [
        "\n",
        "print(training_history.history.keys())"
      ]
    },
    {
      "cell_type": "markdown",
      "metadata": {
        "id": "XZeUGLIjWPX1"
      },
      "source": [
        "Accuracy Visualization"
      ]
    },
    {
      "cell_type": "code",
      "execution_count": 40,
      "metadata": {
        "colab": {
          "base_uri": "https://localhost:8080/",
          "height": 472
        },
        "id": "2jK10zQLWCRX",
        "outputId": "52e32f3e-883f-4ea9-bac0-98667636dabf"
      },
      "outputs": [
        {
          "data": {
            "image/png": "[encoded data removed]",
            "text/plain": [
              "<Figure size 640x480 with 1 Axes>"
            ]
          },
          "metadata": {},
          "output_type": "display_data"
        }
      ],
      "source": [
        "epochs = [i for i in range(1,11)]\n",
        "plt.plot(epochs,training_history.history['accuracy'],color='red',label='Training Accuracy')\n",
        "plt.plot(epochs,training_history.history['val_accuracy'],color='blue',label='Validation Accuracy')\n",
        "plt.xlabel('No. of Epochs')\n",
        "plt.title('Visualization of Accuracy Result')\n",
        "plt.legend()\n",
        "plt.show()"
      ]
    },
    {
      "cell_type": "markdown",
      "metadata": {
        "id": "jNhK9kIqWKLV"
      },
      "source": [
        "Some other metrics for model evaluation"
      ]
    },
    {
      "cell_type": "code",
      "execution_count": 41,
      "metadata": {
        "id": "fcQhwogzWVKD"
      },
      "outputs": [],
      "source": [
        "class_name = validation_set.class_names"
      ]
    },
    {
      "cell_type": "code",
      "execution_count": 42,
      "metadata": {
        "colab": {
          "base_uri": "https://localhost:8080/"
        },
        "id": "sp2dzmqyWMi7",
        "outputId": "ffbfca3d-3ead-4748-f43c-fbecee3a06b6"
      },
      "outputs": [
        {
          "name": "stdout",
          "output_type": "stream",
          "text": [
            "Found 17572 files belonging to 38 classes.\n"
          ]
        }
      ],
      "source": [
        "test_set = tf.keras.utils.image_dataset_from_directory(\n",
        "    '/content/New Plant Diseases Dataset(Augmented)/New Plant Diseases Dataset(Augmented)/valid',\n",
        "    labels=\"inferred\",\n",
        "    label_mode=\"categorical\",\n",
        "    class_names=None,\n",
        "    color_mode=\"rgb\",\n",
        "    batch_size=1,\n",
        "    image_size=(128, 128),\n",
        "    shuffle=False,\n",
        "    seed=None,\n",
        "    validation_split=None,\n",
        "    subset=None,\n",
        "    interpolation=\"bilinear\",\n",
        "    follow_links=False,\n",
        "    crop_to_aspect_ratio=False\n",
        ")"
      ]
    },
    {
      "cell_type": "code",
      "execution_count": 43,
      "metadata": {
        "colab": {
          "base_uri": "https://localhost:8080/"
        },
        "id": "Dq-tEI0RWz1s",
        "outputId": "0f5c49d5-1bc7-48ed-dcb5-0296af65f3e5"
      },
      "outputs": [
        {
          "name": "stdout",
          "output_type": "stream",
          "text": [
            "17572/17572 [==============================] - 52s 3ms/step\n"
          ]
        }
      ],
      "source": [
        "y_pred = cnn.predict(test_set)\n",
        "predicted_categories = tf.argmax(y_pred, axis=1)"
      ]
    },
    {
      "cell_type": "code",
      "execution_count": 44,
      "metadata": {
        "id": "jWevF3zdW7pD"
      },
      "outputs": [],
      "source": [
        "true_categories = tf.concat([y for x, y in test_set], axis=0)\n",
        "Y_true = tf.argmax(true_categories, axis=1)"
      ]
    },
    {
      "cell_type": "code",
      "execution_count": 45,
      "metadata": {
        "colab": {
          "base_uri": "https://localhost:8080/"
        },
        "id": "ro_W1BSoW_2q",
        "outputId": "4745be42-1c46-4207-be9e-24a058847aea"
      },
      "outputs": [
        {
          "data": {
            "text/plain": [
              "<tf.Tensor: shape=(17572,), dtype=int64, numpy=array([ 0,  0,  0, ..., 37, 37, 37])>"
            ]
          },
          "execution_count": 45,
          "metadata": {},
          "output_type": "execute_result"
        }
      ],
      "source": [
        "Y_true"
      ]
    },
    {
      "cell_type": "code",
      "execution_count": 46,
      "metadata": {
        "colab": {
          "base_uri": "https://localhost:8080/"
        },
        "id": "UOQjPX2XXBzz",
        "outputId": "b7180853-9335-44dc-afe7-195a7bc77208"
      },
      "outputs": [
        {
          "data": {
            "text/plain": [
              "<tf.Tensor: shape=(17572,), dtype=int64, numpy=array([ 0,  0,  0, ..., 37, 37, 37])>"
            ]
          },
          "execution_count": 46,
          "metadata": {},
          "output_type": "execute_result"
        }
      ],
      "source": [
        "predicted_categories"
      ]
    },
    {
      "cell_type": "code",
      "execution_count": 47,
      "metadata": {
        "id": "14dn28tVXEVp"
      },
      "outputs": [],
      "source": [
        "from sklearn.metrics import confusion_matrix,classification_report\n",
        "cm = confusion_matrix(Y_true,predicted_categories)"
      ]
    },
    {
      "cell_type": "code",
      "execution_count": 48,
      "metadata": {
        "colab": {
          "base_uri": "https://localhost:8080/"
        },
        "id": "wHw3-zIlXJze",
        "outputId": "726e77bf-2961-43a8-e48e-e7c36c74262f"
      },
      "outputs": [
        {
          "name": "stdout",
          "output_type": "stream",
          "text": [
            "                                                    precision    recall  f1-score   support\n",
            "\n",
            "                                Apple___Apple_scab       0.96      0.95      0.96       504\n",
            "                                 Apple___Black_rot       0.96      0.94      0.95       497\n",
            "                          Apple___Cedar_apple_rust       0.91      0.99      0.95       440\n",
            "                                   Apple___healthy       0.86      0.96      0.91       502\n",
            "                               Blueberry___healthy       0.97      0.98      0.98       454\n",
            "          Cherry_(including_sour)___Powdery_mildew       0.99      0.97      0.98       421\n",
            "                 Cherry_(including_sour)___healthy       0.98      0.97      0.98       456\n",
            "Corn_(maize)___Cercospora_leaf_spot Gray_leaf_spot       0.89      0.92      0.91       410\n",
            "                       Corn_(maize)___Common_rust_       0.99      0.99      0.99       477\n",
            "               Corn_(maize)___Northern_Leaf_Blight       0.92      0.96      0.94       477\n",
            "                            Corn_(maize)___healthy       0.97      1.00      0.99       465\n",
            "                                 Grape___Black_rot       0.95      0.99      0.97       472\n",
            "                      Grape___Esca_(Black_Measles)       0.98      0.98      0.98       480\n",
            "        Grape___Leaf_blight_(Isariopsis_Leaf_Spot)       1.00      0.97      0.98       430\n",
            "                                   Grape___healthy       1.00      1.00      1.00       423\n",
            "          Orange___Haunglongbing_(Citrus_greening)       0.92      1.00      0.96       503\n",
            "                            Peach___Bacterial_spot       0.98      0.94      0.96       459\n",
            "                                   Peach___healthy       0.94      0.99      0.96       432\n",
            "                     Pepper,_bell___Bacterial_spot       0.99      0.90      0.94       478\n",
            "                            Pepper,_bell___healthy       0.98      0.93      0.95       497\n",
            "                             Potato___Early_blight       0.99      0.93      0.96       485\n",
            "                              Potato___Late_blight       0.88      0.98      0.93       485\n",
            "                                  Potato___healthy       0.95      0.98      0.97       456\n",
            "                               Raspberry___healthy       1.00      0.95      0.97       445\n",
            "                                 Soybean___healthy       0.97      0.98      0.98       505\n",
            "                           Squash___Powdery_mildew       1.00      0.96      0.98       434\n",
            "                          Strawberry___Leaf_scorch       0.98      0.97      0.98       444\n",
            "                              Strawberry___healthy       1.00      0.99      0.99       456\n",
            "                           Tomato___Bacterial_spot       0.92      0.98      0.95       425\n",
            "                             Tomato___Early_blight       0.88      0.84      0.86       480\n",
            "                              Tomato___Late_blight       0.92      0.86      0.89       463\n",
            "                                Tomato___Leaf_Mold       0.99      0.91      0.95       470\n",
            "                       Tomato___Septoria_leaf_spot       0.93      0.73      0.82       436\n",
            "     Tomato___Spider_mites Two-spotted_spider_mite       0.77      0.99      0.86       435\n",
            "                              Tomato___Target_Spot       0.91      0.82      0.87       457\n",
            "            Tomato___Tomato_Yellow_Leaf_Curl_Virus       0.98      0.98      0.98       490\n",
            "                      Tomato___Tomato_mosaic_virus       0.99      0.91      0.95       448\n",
            "                                  Tomato___healthy       0.96      0.99      0.97       481\n",
            "\n",
            "                                          accuracy                           0.95     17572\n",
            "                                         macro avg       0.95      0.95      0.95     17572\n",
            "                                      weighted avg       0.95      0.95      0.95     17572\n",
            "\n"
          ]
        }
      ],
      "source": [
        "print(classification_report(Y_true,predicted_categories,target_names=class_name))"
      ]
    },
    {
      "cell_type": "code",
      "execution_count": 55,
      "metadata": {
        "colab": {
          "base_uri": "https://localhost:8080/",
          "height": 1000
        },
        "id": "6MYiS_q_XNA9",
        "outputId": "9f8054a0-b73d-45e5-dcb2-42916dd106f8"
      },
      "outputs": [
        {
          "data": {
            "image/png": "[encoded data removed]",
            "text/plain": [
              "<Figure size 1500x1500 with 2 Axes>"
            ]
          },
          "metadata": {},
          "output_type": "display_data"
        }
      ],
      "source": [
        "plt.figure(figsize=(15, 15))\n",
        "sns.heatmap(cm,annot=True,annot_kws={\"size\": 5})\n",
        "\n",
        "plt.xlabel('Predicted Class',fontsize = 20)\n",
        "plt.ylabel('Actual Class',fontsize = 20)\n",
        "plt.title('Plant Disease Prediction Confusion Matrix',fontsize = 25)\n",
        "plt.show()"
      ]
    }
  ],
  "metadata": {
    "accelerator": "GPU",
    "colab": {
      "gpuType": "T4",
      "provenance": []
    },
    "kernelspec": {
      "display_name": "Python 3",
      "name": "python3"
    },
    "language_info": {
      "codemirror_mode": {
        "name": "ipython",
        "version": 3
      },
      "file_extension": ".py",
      "mimetype": "text/x-python",
      "name": "python",
      "nbconvert_exporter": "python",
      "pygments_lexer": "ipython3",
      "version": "3.12.0"
    }
  },
  "nbformat": 4,
  "nbformat_minor": 0
}
